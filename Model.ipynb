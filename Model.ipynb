{
 "cells": [
  {
   "cell_type": "code",
   "execution_count": 1,
   "id": "28e057fd-1607-45cd-a5ae-1202377622b8",
   "metadata": {
    "tags": []
   },
   "outputs": [],
   "source": [
    "import tensorflow as tf\n",
    "\n",
    "import cv2\n",
    "\n",
    "import uuid\n",
    "\n",
    "import os\n",
    "\n",
    "import time"
   ]
  },
  {
   "cell_type": "code",
   "execution_count": null,
   "id": "5f292f79-c5a9-4a5e-94bb-b2825c90a05d",
   "metadata": {},
   "outputs": [],
   "source": [
    "labels = ['landingpad']\n",
    "num_images = 160"
   ]
  },
  {
   "cell_type": "code",
   "execution_count": null,
   "id": "0d0cb52a-39f4-4783-bfb7-633c516607f0",
   "metadata": {},
   "outputs": [],
   "source": []
  }
 ],
 "metadata": {
  "kernelspec": {
   "display_name": "tensormodel",
   "language": "python",
   "name": "tensormodel"
  },
  "language_info": {
   "codemirror_mode": {
    "name": "ipython",
    "version": 3
   },
   "file_extension": ".py",
   "mimetype": "text/x-python",
   "name": "python",
   "nbconvert_exporter": "python",
   "pygments_lexer": "ipython3",
   "version": "3.10.9"
  }
 },
 "nbformat": 4,
 "nbformat_minor": 5
}
